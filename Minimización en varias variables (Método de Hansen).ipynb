{
 "metadata": {
  "name": ""
 },
 "nbformat": 3,
 "nbformat_minor": 0,
 "worksheets": [
  {
   "cells": [
    {
     "cell_type": "heading",
     "level": 2,
     "metadata": {},
     "source": [
      "Optimizaci\u00f3n de una funci\u00f3n de varias variables"
     ]
    },
    {
     "cell_type": "markdown",
     "metadata": {},
     "source": [
      "La idea es minimizar una funci\u00f3n \n",
      "\n",
      "$\\min f(x)$ sujeta a $x \\in X$\n",
      "\n",
      "donde $X \\subseteq R^n$ es un vector de intervalos (o una caja) y $f : R^n \\rightarrow R$ es dos veces diferenciable en $X$.\n"
     ]
    },
    {
     "cell_type": "markdown",
     "metadata": {},
     "source": [
      "En particular, el objetivo es minimizar un potencial efectivo de 4 cuerpos. Considerando un potencial entre dos puntos como $V[\\vec{r}_i,\\vec{r}_j] = \\left\\vert \\vec{r}_i - \\vec{r}_j \\right\\vert$, queremos minimizar un potencial de cuatro cuerpos ($r_1,r_2,r_3,r_4$) con la siguiente forma:\n",
      "\n",
      "$V_{4Q} = \\sum_{i=1}^{2} V[r_i,\\vec{k}] + \\sum_{i=3}^{4} V[\\vec{r_j},\\vec{l}] + V[\\vec{k},\\vec{l}] $\n",
      "\n",
      "Donde los vectores $\\vec{k}$ y $\\vec{l}$ son vectores de apoyo para poder minimizar el potencial de 4 cuerpos. Entonces, con posiciones fijas, las variables del potencial est\u00e1n en t\u00e9rminos de $(k_x,k_y,k_z,l_x,l_y,l_z)$."
     ]
    },
    {
     "cell_type": "code",
     "collapsed": false,
     "input": [
      "from intervalo import *"
     ],
     "language": "python",
     "metadata": {},
     "outputs": [],
     "prompt_number": 1
    },
    {
     "cell_type": "code",
     "collapsed": false,
     "input": [
      "import numpy as np"
     ],
     "language": "python",
     "metadata": {},
     "outputs": [],
     "prompt_number": 2
    },
    {
     "cell_type": "markdown",
     "metadata": {},
     "source": [
      "Dados los valores de las posiciones de las cuatro part\u00edculas $\\vec{r}_i \\ i=1,2,3,4$, las variables del potencial ser\u00edan los vectores $\\vec{k}$ y $\\vec{l}$ (6 variables). Proponemos unas posiciones de prueba\n"
     ]
    },
    {
     "cell_type": "code",
     "collapsed": false,
     "input": [
      "# Se definen coordenadas cartesianas de cuatro cuerpos\n",
      "\n",
      "x1=0.73\n",
      "y1=1.0503\n",
      "z1=1.5\n",
      "x2=0.09\n",
      "y2=0.54\n",
      "z2=1.14\n",
      "\n",
      "ax1=1.73\n",
      "ay1=1.06\n",
      "az1=1.1188\n",
      "ax2=1.0\n",
      "ay2=0.3848\n",
      "az2=1.2176"
     ],
     "language": "python",
     "metadata": {},
     "outputs": [],
     "prompt_number": 3
    },
    {
     "cell_type": "markdown",
     "metadata": {},
     "source": [
      "En s\u00ed, las cuatro part\u00edculas se encuentran confinadas en un cubo de lado $L$ con un v\u00e9rtice en el origen, pero los vectores $\\vec{k}$ y $\\vec{l}$ deber\u00eda estar dentro del espacio de las cuatro part\u00edculas. Entonces en general \n",
      "\n"
     ]
    },
    {
     "cell_type": "code",
     "collapsed": false,
     "input": [
      "# Las variables iniciales deben estar dentro de la part\u00edcula\n",
      "\n",
      "kx = Intervalo(min(x1,x2,ax1,ax2),max(x1,x2,ax1,ax2))\n",
      "ky = Intervalo(min(y1,y2,ay1,ay2),max(y1,y2,ay1,ay2))\n",
      "kz = Intervalo(min(z1,z2,az1,az2),max(z1,z2,az1,az2))\n",
      "lx = Intervalo(min(x1,x2,ax1,ax2),max(x1,x2,ax1,ax2))\n",
      "ly = Intervalo(min(y1,y2,ay1,ay2),max(y1,y2,ay1,ay2))\n",
      "lz = Intervalo(min(z1,z2,az1,az2),max(z1,z2,az1,az2))\n",
      "\n",
      "print kx,ky,kz,lx,ly,lz"
     ],
     "language": "python",
     "metadata": {},
     "outputs": [
      {
       "output_type": "stream",
       "stream": "stdout",
       "text": [
        "[0.09,1.73] [0.3848,1.06] [1.1188,1.5] [0.09,1.73] [0.3848,1.06] [1.1188,1.5]\n"
       ]
      }
     ],
     "prompt_number": 4
    },
    {
     "cell_type": "code",
     "collapsed": false,
     "input": [
      "Y = [kx,ky,kz,lx,ly,lz]\n",
      "#Y = [kx,ky,kz,lx,ly,lz]\n",
      "#print Y\n",
      "Z = np.array([Intervalo(1,2),Intervalo(2,3),Intervalo(1,2),Intervalo(1,2),Intervalo(1,2),Intervalo(1,2)])\n",
      "#print Y+Z\n"
     ],
     "language": "python",
     "metadata": {},
     "outputs": [],
     "prompt_number": 5
    },
    {
     "cell_type": "code",
     "collapsed": false,
     "input": [
      "def Pot(k1,k2,k3,l1,l2,l3):\n",
      "    \n",
      "# Suma de distancias\n",
      "\n",
      "    r1k = np.sqrt( (abso(x1-k1))**2. + (abso(y1-k2))**2. + (abso(z1-k3))**2. )\n",
      "    r2k = np.sqrt( (abso(x2-k1))**2. + (abso(y2-k2))**2. + (abso(z2-k3))**2. )\n",
      "    r1l = np.sqrt( (abso(ax1-l1))**2. + (abso(ay1-l2))**2. + (abso(az1-l3))**2. )\n",
      "    r2l = np.sqrt( (abso(ax2-l1))**2. + (abso(ay2-l2))**2. + (abso(az2-l3))**2. )\n",
      "    rkl = np.sqrt( (abso(l1-k1))**2. + (abso(l2-k2))**2. + (abso(l3-k3))**2. )\n",
      "    \n",
      "    return r1k + r2k + r1l + r2l + rkl"
     ],
     "language": "python",
     "metadata": {},
     "outputs": [],
     "prompt_number": 10
    },
    {
     "cell_type": "code",
     "collapsed": false,
     "input": [
      "\n",
      "def Pot1(X):\n",
      "    \n",
      "# Suma de distancias\n",
      "\n",
      "    k1 = X[0]\n",
      "    k2 = X[1]\n",
      "    k3 = X[2]\n",
      "    l1 = X[3]\n",
      "    l2 = X[4]\n",
      "    l3 = X[5]\n",
      "    \n",
      "    r1k = np.sqrt( (abso(k1-x1))**2. + (abso(k2-y1))**2. + (abso(k3-z1))**2. )\n",
      "    r2k = np.sqrt( (abso(k1-x2))**2. + (abso(k2-y2))**2. + (abso(k3-z2))**2. )\n",
      "    r1l = np.sqrt( (abso(l1-ax1))**2. + (abso(l2-ay1))**2. + (abso(l3-az1))**2. )\n",
      "    r2l = np.sqrt( (abso(l1-ax2))**2. + (abso(l2-ay2))**2. + (abso(l3-az2))**2. )\n",
      "    rkl = np.sqrt( (abso(l1-k1))**2. + (abso(l2-k2))**2. + (abso(l3-k3))**2. )\n",
      "    \n",
      "    return r1k + r2k + r1l + r2l + rkl"
     ],
     "language": "python",
     "metadata": {},
     "outputs": [],
     "prompt_number": 11
    },
    {
     "cell_type": "code",
     "collapsed": false,
     "input": [
      "print Pot1(Y)\n",
      "print Pot(kx,ky,kz,lx,ly,lz)"
     ],
     "language": "python",
     "metadata": {},
     "outputs": [
      {
       "output_type": "stream",
       "stream": "stdout",
       "text": [
        "[0.0,7.81387731668]\n",
        "[0.0,7.81387731668]\n"
       ]
      }
     ],
     "prompt_number": 12
    },
    {
     "cell_type": "code",
     "collapsed": false,
     "input": [
      "kx = Intervalo(min(x1,x2,ax1,ax2),max(x1,x2,ax1,ax2))\n",
      "ky = Intervalo(min(y1,y2,ay1,ay2),max(y1,y2,ay1,ay2))\n",
      "kz = Intervalo(min(z1,z2,az1,az2),max(z1,z2,az1,az2))\n",
      "lx = Intervalo(min(x1,x2,ax1,ax2),max(x1,x2,ax1,ax2))\n",
      "ly = Intervalo(min(y1,y2,ay1,ay2),max(y1,y2,ay1,ay2))\n",
      "lz = Intervalo(min(z1,z2,az1,az2),max(z1,z2,az1,az2))\n",
      "\n",
      "print kx,ky,kz,lx,ly,lz"
     ],
     "language": "python",
     "metadata": {},
     "outputs": [
      {
       "output_type": "stream",
       "stream": "stdout",
       "text": [
        "[0.09,1.73] [0.3848,1.06] [1.1188,1.5] [0.09,1.73] [0.3848,1.06] [1.1188,1.5]\n"
       ]
      }
     ],
     "prompt_number": 28
    },
    {
     "cell_type": "code",
     "collapsed": false,
     "input": [
      "print Pot(0.65670824,0.77635711,1.2807852,1.1182925,0.74119288,1.2074147)\n",
      "    "
     ],
     "language": "python",
     "metadata": {},
     "outputs": [
      {
       "output_type": "stream",
       "stream": "stdout",
       "text": [
        "2.52820278581\n"
       ]
      }
     ],
     "prompt_number": 21
    },
    {
     "cell_type": "code",
     "collapsed": false,
     "input": [
      "Y = [kx,ky,kz,lx,ly,lz]\n",
      "Yt1 = [kx,ky,kz,lx,ly,lz]  #Lista de prueba (inicio)\n",
      "Yt2 = [kx,ky,kz,lx,ly,lz]\n",
      "\n",
      "print len(Y)\n",
      "\n",
      "F = Pot1(Y)\n",
      "\n",
      "ify = F.lo    \n",
      "L = [kx,ky,kz,lx,ly,lz,ify]\n",
      "Error = 0.01    # Error o longitud m\u00ednima deseada del intervalo\n",
      "\n",
      "N=0\n",
      "\n",
      "\n",
      "while ((F.hi - F.lo)>Error):\n",
      "\n",
      "    for j in range(0,len(Y)):\n",
      "        \n",
      "        Yt1[j] = Intervalo(Y[j].lo,middle(Y[j]))\n",
      "        Yt2[j] = Intervalo(middle(Y[j]),Y[j].hi)\n",
      "        \n",
      "        F1 = Pot1(Yt1)\n",
      "        F2 = Pot1(Yt2)\n",
      "        \n",
      "        \n",
      "        if (F1.lo) < (F2.lo):\n",
      "            F = F1\n",
      "            Y[j] = Yt1[j]\n",
      "            Yt2[j] = Y[j]\n",
      "        else:\n",
      "            F = F2\n",
      "            Y[j] = Yt2[j]\n",
      "            Yt1[j] = Y[j]\n",
      "    N = N + 1\n",
      "\n",
      "print 'Intervalo de la Funcion',F\n",
      "print 'Intervalos de las variables',Y\n",
      "print 'No. de pasos necesarios = ', N"
     ],
     "language": "python",
     "metadata": {},
     "outputs": [
      {
       "output_type": "stream",
       "stream": "stdout",
       "text": [
        "6\n",
        "Intervalo de la Funcion"
       ]
      },
      {
       "output_type": "stream",
       "stream": "stdout",
       "text": [
        " [2.47985153885,2.48857626628]\n",
        "Intervalos de las variables [Intervalo [0.75625,0.7578515625], Intervalo [0.8912,0.891859375], Intervalo [1.35667773438,1.35705], Intervalo [1.009296875,1.0108984375], Intervalo [0.8068,0.807459375], Intervalo [1.2736625,1.27403476563]]\n",
        "No. de pasos necesarios =  10\n"
       ]
      }
     ],
     "prompt_number": 62
    },
    {
     "cell_type": "code",
     "collapsed": false,
     "input": [
      "    "
     ],
     "language": "python",
     "metadata": {},
     "outputs": []
    }
   ],
   "metadata": {}
  }
 ]
}